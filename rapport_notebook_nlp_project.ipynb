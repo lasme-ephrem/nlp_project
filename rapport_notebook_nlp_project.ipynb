{
 "cells": [
  {
   "cell_type": "markdown",
   "id": "90d39696",
   "metadata": {},
   "source": [
    "# <center> PROJET DE MACHINE LEARNING FOR NLP </center>"
   ]
  },
  {
   "attachments": {
    "image.png": {
     "image/png": "[encoded data removed]"
    }
   },
   "cell_type": "markdown",
   "id": "0a08f13d",
   "metadata": {},
   "source": [
    "![image.png](attachment:image.png)"
   ]
  },
  {
   "cell_type": "markdown",
   "id": "593fd110",
   "metadata": {},
   "source": [
    "#### <center>  Réalisé par : </center>\n",
    "\n",
    "\n",
    "<center>ESSOH Lasme Ephrem Dominique (DSSA) </center>\n",
    "<center>CHABAUD Mathieu (DSSS) </center>\n",
    "<center>BERREBI Nathan (DSSA)</center>\n",
    "\n",
    "<br>\n",
    "\n",
    "<center>Elèves-Ingénieurs 3A (2021 - 2022)</center>\n",
    "\n",
    "\n"
   ]
  },
  {
   "cell_type": "markdown",
   "id": "81c16435",
   "metadata": {},
   "source": [
    "#### <center> Thème :  </center> "
   ]
  },
  {
   "cell_type": "markdown",
   "id": "356c6306",
   "metadata": {
    "tags": []
   },
   "source": [
    "# <center> Analyses textuelles sur Amazon Product Data : analyse de sentiment et génération de texte. </center>"
   ]
  },
  {
   "cell_type": "markdown",
   "id": "392708d2",
   "metadata": {},
   "source": [
    "\n",
    "## Modules"
   ]
  },
  {
   "cell_type": "markdown",
   "id": "513f6cdf",
   "metadata": {},
   "source": [
    "Ci-dessous figure la liste des modules utilisés dans le cadre de ce projet. Ces modules sont également stockés dans le fichier d'environnement *requirements.txt*. Pour plus de renseignements, référez-vous au README.md de la page github de ce travail.\n",
    "\n",
    "Si ce notebook est exécuté sur Google Colab, il sera nécessaire d'installer les modules ci-dessous (dé_commenter les lignes de codes). Il est aussi utile de passer en mode d'éxécution du notebook avec un environnement GPU."
   ]
  },
  {
   "cell_type": "code",
   "execution_count": 1,
   "id": "eb48cffb",
   "metadata": {},
   "outputs": [],
   "source": [
    "#-------------------------------------\n",
    "#  POUR COLAB\n",
    "#-------------------------------------\n",
    "#!pip install fsspec\n",
    "#!pip install s3fs\n",
    "#!pip install botocore\n",
    "#!pip install boto3\n",
    "#!pip install transformers"
   ]
  },
  {
   "cell_type": "code",
   "execution_count": 2,
   "id": "1da7ae5e",
   "metadata": {},
   "outputs": [],
   "source": [
    "#gestion des exceptions\n",
    "import warnings\n",
    "warnings.filterwarnings('ignore')"
   ]
  },
  {
   "cell_type": "code",
   "execution_count": 3,
   "id": "34a17019",
   "metadata": {},
   "outputs": [
    {
     "name": "stderr",
     "output_type": "stream",
     "text": [
      "[nltk_data] Downloading package stopwords to\n",
      "[nltk_data]     C:\\Users\\lasme\\AppData\\Roaming\\nltk_data...\n",
      "[nltk_data]   Package stopwords is already up-to-date!\n"
     ]
    }
   ],
   "source": [
    "#gestion des répertoires\n",
    "import os\n",
    "\n",
    "#pour le chargement des données depuis notre espace S3 AWS\n",
    "import boto3\n",
    "\n",
    "#modules de base pour la science des données\n",
    "import numpy as np\n",
    "import pandas as pd\n",
    "import matplotlib.pyplot as plt\n",
    "import seaborn as sns\n",
    "\n",
    "#gestion et preprocessing des données textuelles\n",
    "import string\n",
    "import re\n",
    "import nltk\n",
    "from nltk.stem import PorterStemmer\n",
    "from nltk.corpus import stopwords\n",
    "nltk.download(\"stopwords\")\n",
    "from sklearn.feature_extraction.text import CountVectorizer\n",
    "from collections import Counter\n",
    "\n",
    "#pour la réalisation des nuages de mots\n",
    "from wordcloud import WordCloud, STOPWORDS\n",
    "\n",
    "#pour l'entraînement réseau de neuronnes artificielles pour le sentiment analysis\n",
    "import random\n",
    "import torch\n",
    "import torch.nn as nn\n",
    "import torch.nn.functional as F\n",
    "from torch.utils.data import Dataset, DataLoader\n",
    "from transformers import AutoTokenizer, AutoModelWithLMHead\n",
    "import torch.optim as optim\n",
    "\n",
    "from keras.preprocessing.sequence import pad_sequences\n",
    "from torch.utils.data import TensorDataset, DataLoader, RandomSampler, SequentialSampler\n",
    "from transformers import BertTokenizer #Tokenizer pour bert\n",
    "from transformers import BertForSequenceClassification\n",
    "from transformers import AdamW, get_linear_schedule_with_warmup\n",
    "\n",
    "\n",
    "#pour la séparation des données afin d'estimer l'erreur de généralisation\n",
    "from sklearn.model_selection import train_test_split\n",
    "\n",
    "#pour le calcul de la métrique utilisée pour évaluer le classifieur pour le sentiment analysis\n",
    "from sklearn.metrics import f1_score\n",
    "\n",
    "#pour la bar de progression\n",
    "from tqdm.notebook import tqdm\n",
    "\n"
   ]
  },
  {
   "cell_type": "markdown",
   "id": "f5b668c5",
   "metadata": {
    "tags": []
   },
   "source": [
    "## Jeu de données"
   ]
  },
  {
   "cell_type": "markdown",
   "id": "1b38510b",
   "metadata": {},
   "source": [
    "Pour plus d'informations sur le jeu de données brut que nous utilisons, il faut consulter l'adresse web suivante : https://nijianmo.github.io/amazon/index.html"
   ]
  },
  {
   "cell_type": "markdown",
   "id": "636c93b5",
   "metadata": {},
   "source": [
    "Le script qui suit récupère automatiquement les données depuis notre espace AWS S3, dans le cas où ils ne sont pas disponible sur votre espace local, et les stocke ensuite. Dans le cas contraire, ce script se contente de juste charger les données en mémoire dans un objet pandas DataFrame nommé df."
   ]
  },
  {
   "cell_type": "code",
   "execution_count": 4,
   "id": "75e37fe1",
   "metadata": {},
   "outputs": [],
   "source": [
    "url = \"s3://nlpensae3a2022/Amazon_Digital_Music.csv\" #url de stockage des données dans un espace s3\n",
    "\n",
    "def fetch_data(dump_url = url):\n",
    "    \"\"\"cette fonction récupère automatiquement les données (si besoin)\"\"\"\n",
    "    if not os.path.exists(\"Raw/Amazon_Digital_Music.csv\"):\n",
    "        if not os.path.isdir(\"Raw\"):\n",
    "            os.makedirs(\"Raw\")\n",
    "            os.makedirs(\"Modeles\")\n",
    "        print(\"Chargement des données en cours, patientez encore ...\")\n",
    "        print(\"===============================================================\")\n",
    "        client = boto3.client(\"s3\")\n",
    "        df = pd.read_csv(dump_url)\n",
    "        print(\"...\")\n",
    "        print(\"...\")\n",
    "        print(\"...\")\n",
    "        df.to_csv(\"Raw/Amazon_Digital_Music.csv\", index=False)\n",
    "        print(\"Chargement terminé !\")\n",
    "        return df\n",
    "        \n",
    "    else:\n",
    "        return pd.read_csv(\"Raw/Amazon_Digital_Music.csv\")"
   ]
  },
  {
   "cell_type": "markdown",
   "id": "176c5846",
   "metadata": {},
   "source": [
    "Récupération des données : "
   ]
  },
  {
   "cell_type": "code",
   "execution_count": 5,
   "id": "4f682a28",
   "metadata": {},
   "outputs": [],
   "source": [
    "df = fetch_data()"
   ]
  },
  {
   "cell_type": "markdown",
   "id": "177c2a0c",
   "metadata": {},
   "source": [
    "Liste des colonnes et leurs types :"
   ]
  },
  {
   "cell_type": "code",
   "execution_count": 6,
   "id": "8921f31f",
   "metadata": {
    "scrolled": true
   },
   "outputs": [
    {
     "data": {
      "text/plain": [
       "overall           float64\n",
       "verified             bool\n",
       "reviewTime         object\n",
       "reviewerID         object\n",
       "asin               object\n",
       "style              object\n",
       "reviewerName       object\n",
       "reviewText         object\n",
       "summary            object\n",
       "unixReviewTime      int64\n",
       "vote               object\n",
       "image              object\n",
       "dtype: object"
      ]
     },
     "execution_count": 6,
     "metadata": {},
     "output_type": "execute_result"
    }
   ],
   "source": [
    "df.dtypes"
   ]
  },
  {
   "cell_type": "markdown",
   "id": "680dd52d",
   "metadata": {},
   "source": [
    "Premières lignes du jeu de données brut : "
   ]
  },
  {
   "cell_type": "code",
   "execution_count": 7,
   "id": "74bb6e1c",
   "metadata": {
    "scrolled": true
   },
   "outputs": [
    {
     "data": {
      "text/html": [
       "<div>\n",
       "<style scoped>\n",
       "    .dataframe tbody tr th:only-of-type {\n",
       "        vertical-align: middle;\n",
       "    }\n",
       "\n",
       "    .dataframe tbody tr th {\n",
       "        vertical-align: top;\n",
       "    }\n",
       "\n",
       "    .dataframe thead th {\n",
       "        text-align: right;\n",
       "    }\n",
       "</style>\n",
       "<table border=\"1\" class=\"dataframe\">\n",
       "  <thead>\n",
       "    <tr style=\"text-align: right;\">\n",
       "      <th></th>\n",
       "      <th>overall</th>\n",
       "      <th>verified</th>\n",
       "      <th>reviewTime</th>\n",
       "      <th>reviewerID</th>\n",
       "      <th>asin</th>\n",
       "      <th>style</th>\n",
       "      <th>reviewerName</th>\n",
       "      <th>reviewText</th>\n",
       "      <th>summary</th>\n",
       "      <th>unixReviewTime</th>\n",
       "      <th>vote</th>\n",
       "      <th>image</th>\n",
       "    </tr>\n",
       "  </thead>\n",
       "  <tbody>\n",
       "    <tr>\n",
       "      <th>0</th>\n",
       "      <td>5.0</td>\n",
       "      <td>True</td>\n",
       "      <td>12 22, 2013</td>\n",
       "      <td>A1ZCPG3D3HGRSS</td>\n",
       "      <td>0001388703</td>\n",
       "      <td>{'Format:': ' Audio CD'}</td>\n",
       "      <td>mark l. massey</td>\n",
       "      <td>This is a great cd full of worship favorites!!...</td>\n",
       "      <td>Great worship cd</td>\n",
       "      <td>1387670400</td>\n",
       "      <td>NaN</td>\n",
       "      <td>NaN</td>\n",
       "    </tr>\n",
       "    <tr>\n",
       "      <th>1</th>\n",
       "      <td>5.0</td>\n",
       "      <td>True</td>\n",
       "      <td>09 11, 2013</td>\n",
       "      <td>AC2PL52NKPL29</td>\n",
       "      <td>0001388703</td>\n",
       "      <td>{'Format:': ' Audio CD'}</td>\n",
       "      <td>Norma Mushen</td>\n",
       "      <td>So creative!  Love his music - the words, the ...</td>\n",
       "      <td>Gotta listen to this!</td>\n",
       "      <td>1378857600</td>\n",
       "      <td>NaN</td>\n",
       "      <td>NaN</td>\n",
       "    </tr>\n",
       "    <tr>\n",
       "      <th>2</th>\n",
       "      <td>5.0</td>\n",
       "      <td>True</td>\n",
       "      <td>03 2, 2013</td>\n",
       "      <td>A1SUZXBDZSDQ3A</td>\n",
       "      <td>0001388703</td>\n",
       "      <td>{'Format:': ' Audio CD'}</td>\n",
       "      <td>Herbert W. Shurley</td>\n",
       "      <td>Keith Green, gone far to early in his carreer,...</td>\n",
       "      <td>Great approach still gets the message out</td>\n",
       "      <td>1362182400</td>\n",
       "      <td>NaN</td>\n",
       "      <td>NaN</td>\n",
       "    </tr>\n",
       "    <tr>\n",
       "      <th>3</th>\n",
       "      <td>5.0</td>\n",
       "      <td>True</td>\n",
       "      <td>12 2, 2012</td>\n",
       "      <td>A3A0W7FZXM0IZW</td>\n",
       "      <td>0001388703</td>\n",
       "      <td>{'Format:': ' Audio CD'}</td>\n",
       "      <td>Mary M Raybell</td>\n",
       "      <td>Keith Green had his special comedy style of Ch...</td>\n",
       "      <td>Great A must have</td>\n",
       "      <td>1354406400</td>\n",
       "      <td>NaN</td>\n",
       "      <td>NaN</td>\n",
       "    </tr>\n",
       "    <tr>\n",
       "      <th>4</th>\n",
       "      <td>5.0</td>\n",
       "      <td>False</td>\n",
       "      <td>01 7, 2012</td>\n",
       "      <td>A12R54MKO17TW0</td>\n",
       "      <td>0001388703</td>\n",
       "      <td>{'Format:': ' Audio CD'}</td>\n",
       "      <td>J. Bynum</td>\n",
       "      <td>Keith Green / So you wanna go back to Egypt......</td>\n",
       "      <td>A great one from Keith with a guest appearance...</td>\n",
       "      <td>1325894400</td>\n",
       "      <td>6.0</td>\n",
       "      <td>NaN</td>\n",
       "    </tr>\n",
       "  </tbody>\n",
       "</table>\n",
       "</div>"
      ],
      "text/plain": [
       "   overall  verified   reviewTime      reviewerID        asin  \\\n",
       "0      5.0      True  12 22, 2013  A1ZCPG3D3HGRSS  0001388703   \n",
       "1      5.0      True  09 11, 2013   AC2PL52NKPL29  0001388703   \n",
       "2      5.0      True   03 2, 2013  A1SUZXBDZSDQ3A  0001388703   \n",
       "3      5.0      True   12 2, 2012  A3A0W7FZXM0IZW  0001388703   \n",
       "4      5.0     False   01 7, 2012  A12R54MKO17TW0  0001388703   \n",
       "\n",
       "                      style        reviewerName  \\\n",
       "0  {'Format:': ' Audio CD'}      mark l. massey   \n",
       "1  {'Format:': ' Audio CD'}        Norma Mushen   \n",
       "2  {'Format:': ' Audio CD'}  Herbert W. Shurley   \n",
       "3  {'Format:': ' Audio CD'}      Mary M Raybell   \n",
       "4  {'Format:': ' Audio CD'}            J. Bynum   \n",
       "\n",
       "                                          reviewText  \\\n",
       "0  This is a great cd full of worship favorites!!...   \n",
       "1  So creative!  Love his music - the words, the ...   \n",
       "2  Keith Green, gone far to early in his carreer,...   \n",
       "3  Keith Green had his special comedy style of Ch...   \n",
       "4  Keith Green / So you wanna go back to Egypt......   \n",
       "\n",
       "                                             summary  unixReviewTime vote  \\\n",
       "0                                   Great worship cd      1387670400  NaN   \n",
       "1                              Gotta listen to this!      1378857600  NaN   \n",
       "2          Great approach still gets the message out      1362182400  NaN   \n",
       "3                                  Great A must have      1354406400  NaN   \n",
       "4  A great one from Keith with a guest appearance...      1325894400  6.0   \n",
       "\n",
       "  image  \n",
       "0   NaN  \n",
       "1   NaN  \n",
       "2   NaN  \n",
       "3   NaN  \n",
       "4   NaN  "
      ]
     },
     "execution_count": 7,
     "metadata": {},
     "output_type": "execute_result"
    }
   ],
   "source": [
    "df.head()"
   ]
  },
  {
   "cell_type": "markdown",
   "id": "15e950e2",
   "metadata": {},
   "source": [
    "Taille du jeu de données brut : "
   ]
  },
  {
   "cell_type": "code",
   "execution_count": 8,
   "id": "68dd3b4a",
   "metadata": {},
   "outputs": [
    {
     "data": {
      "text/plain": [
       "(1584082, 12)"
      ]
     },
     "execution_count": 8,
     "metadata": {},
     "output_type": "execute_result"
    }
   ],
   "source": [
    "df.shape"
   ]
  },
  {
   "cell_type": "markdown",
   "id": "8652b75d",
   "metadata": {},
   "source": [
    "Dans ce travail, nous traitons de plus de 1 millions d'avis de consommateurs sur des produits de la categorie Digital Music achetés depuis le site de vente ligne Amazon (US). Il y a en tout 12 colonnes mesurant diverses informations sur ces avis, nous intéressons principalement au commentaire refletant les avis des consommateurs ainsi que leur évaluation sur une échelle de 1 à 5 "
   ]
  },
  {
   "cell_type": "markdown",
   "id": "6c1c934e",
   "metadata": {},
   "source": [
    "Dans ce qui suit, nous présentons une prétraitement ainsi qu'une analyse exploratoire des données sur les 1,5 millions d'avis. Certains prétraitement peuvent mettre du temps à se finaliser à cause de la taille relativement importante du jeu de données."
   ]
  },
  {
   "cell_type": "markdown",
   "id": "c9d34d25",
   "metadata": {},
   "source": [
    "## Preprocessing des données"
   ]
  },
  {
   "cell_type": "markdown",
   "id": "c5bf3a2f",
   "metadata": {},
   "source": [
    "Nous commençons par prétraités les colonnes ensuite nous nous attaquons aux données textuelles. \n",
    "\n",
    "* Traitement des colonnes :\n",
    "\n",
    "Etant donné que les notes sont regroupées de 0 à 5, nous nous proposons de les regrouper en classe de trois : négatif, neutre et positif. On définit la fonction suivante :"
   ]
  },
  {
   "cell_type": "code",
   "execution_count": 9,
   "id": "cc2cf290",
   "metadata": {},
   "outputs": [],
   "source": [
    "def classify(x):\n",
    "    if x == 5.0 or x == 4.0:\n",
    "        return 2 #positif\n",
    "    if x == 3.0:\n",
    "        return 1 #neutre\n",
    "    return 0 #négatif\n",
    "\n",
    "df[\"y\"] = df[\"overall\"].apply(classify)"
   ]
  },
  {
   "cell_type": "markdown",
   "id": "0ecc9946",
   "metadata": {},
   "source": [
    "Supprimons ensuite les colonnes qui ne nous seront pas utiles : "
   ]
  },
  {
   "cell_type": "code",
   "execution_count": 10,
   "id": "76d66f23",
   "metadata": {},
   "outputs": [
    {
     "data": {
      "text/html": [
       "<div>\n",
       "<style scoped>\n",
       "    .dataframe tbody tr th:only-of-type {\n",
       "        vertical-align: middle;\n",
       "    }\n",
       "\n",
       "    .dataframe tbody tr th {\n",
       "        vertical-align: top;\n",
       "    }\n",
       "\n",
       "    .dataframe thead th {\n",
       "        text-align: right;\n",
       "    }\n",
       "</style>\n",
       "<table border=\"1\" class=\"dataframe\">\n",
       "  <thead>\n",
       "    <tr style=\"text-align: right;\">\n",
       "      <th></th>\n",
       "      <th>overall</th>\n",
       "      <th>reviewTime</th>\n",
       "      <th>reviewText</th>\n",
       "      <th>summary</th>\n",
       "      <th>y</th>\n",
       "    </tr>\n",
       "  </thead>\n",
       "  <tbody>\n",
       "    <tr>\n",
       "      <th>0</th>\n",
       "      <td>5.0</td>\n",
       "      <td>12 22, 2013</td>\n",
       "      <td>This is a great cd full of worship favorites!!...</td>\n",
       "      <td>Great worship cd</td>\n",
       "      <td>2</td>\n",
       "    </tr>\n",
       "    <tr>\n",
       "      <th>1</th>\n",
       "      <td>5.0</td>\n",
       "      <td>09 11, 2013</td>\n",
       "      <td>So creative!  Love his music - the words, the ...</td>\n",
       "      <td>Gotta listen to this!</td>\n",
       "      <td>2</td>\n",
       "    </tr>\n",
       "    <tr>\n",
       "      <th>2</th>\n",
       "      <td>5.0</td>\n",
       "      <td>03 2, 2013</td>\n",
       "      <td>Keith Green, gone far to early in his carreer,...</td>\n",
       "      <td>Great approach still gets the message out</td>\n",
       "      <td>2</td>\n",
       "    </tr>\n",
       "    <tr>\n",
       "      <th>3</th>\n",
       "      <td>5.0</td>\n",
       "      <td>12 2, 2012</td>\n",
       "      <td>Keith Green had his special comedy style of Ch...</td>\n",
       "      <td>Great A must have</td>\n",
       "      <td>2</td>\n",
       "    </tr>\n",
       "    <tr>\n",
       "      <th>4</th>\n",
       "      <td>5.0</td>\n",
       "      <td>01 7, 2012</td>\n",
       "      <td>Keith Green / So you wanna go back to Egypt......</td>\n",
       "      <td>A great one from Keith with a guest appearance...</td>\n",
       "      <td>2</td>\n",
       "    </tr>\n",
       "  </tbody>\n",
       "</table>\n",
       "</div>"
      ],
      "text/plain": [
       "   overall   reviewTime                                         reviewText  \\\n",
       "0      5.0  12 22, 2013  This is a great cd full of worship favorites!!...   \n",
       "1      5.0  09 11, 2013  So creative!  Love his music - the words, the ...   \n",
       "2      5.0   03 2, 2013  Keith Green, gone far to early in his carreer,...   \n",
       "3      5.0   12 2, 2012  Keith Green had his special comedy style of Ch...   \n",
       "4      5.0   01 7, 2012  Keith Green / So you wanna go back to Egypt......   \n",
       "\n",
       "                                             summary  y  \n",
       "0                                   Great worship cd  2  \n",
       "1                              Gotta listen to this!  2  \n",
       "2          Great approach still gets the message out  2  \n",
       "3                                  Great A must have  2  \n",
       "4  A great one from Keith with a guest appearance...  2  "
      ]
     },
     "execution_count": 10,
     "metadata": {},
     "output_type": "execute_result"
    }
   ],
   "source": [
    "df = df.drop(labels = [\"verified\", \"reviewerID\", \"asin\" ,\"style\",\"reviewerName\", \"unixReviewTime\",\"vote\", \"image\"],axis = 1)\n",
    "df.head()"
   ]
  },
  {
   "cell_type": "markdown",
   "id": "99000700",
   "metadata": {},
   "source": [
    "* Traitement des commentaires : "
   ]
  },
  {
   "cell_type": "markdown",
   "id": "0f1e5196",
   "metadata": {},
   "source": [
    "Supprimons toutes les ponctuations  des textes décrivant les commentaires de produits \"reviewText\". Il s'agit des caractères suivants :  *!\"#$%&\\'()*+,-./:;<=>?@[\\\\]^_`{|}~. Nous réalisons cette suppression avec la module string et son attribut ponctuation : string.ponctuation en définissant la fonction suivante :            "
   ]
  },
  {
   "cell_type": "code",
   "execution_count": 11,
   "id": "96302334",
   "metadata": {},
   "outputs": [],
   "source": [
    "def remove_punctuation(text):\n",
    "    no_punct = [words for words in text if words not in string.punctuation]\n",
    "    words_wo_punct =''.join(no_punct)\n",
    "    return words_wo_punct\n",
    "\n",
    "df[\"reviewText\"] = df[\"reviewText\"].astype(str)\n",
    "df[\"reviewText\"] = df[\"reviewText\"].apply(lambda x: remove_punctuation(x.lower()))"
   ]
  },
  {
   "cell_type": "markdown",
   "id": "9f75874f",
   "metadata": {},
   "source": [
    "Procédons ensuite à d'autres traitements de textes : la racinisation des mots employés (pour rappel, c'est le processus qui consiste ramener un mot à sa racine. Nous utilisons ici la racinisation à algorithme de Porter), l'élimination des stopwords et la gestion des expressions régulières :"
   ]
  },
  {
   "cell_type": "code",
   "execution_count": 12,
   "id": "ff773afc",
   "metadata": {},
   "outputs": [
    {
     "name": "stdout",
     "output_type": "stream",
     "text": [
      "Prétraitement des données en cours, patientez encore ...\n",
      "===============================================================\n",
      "...\n",
      "...\n",
      "...\n",
      "Prétraitement terminé !\n"
     ]
    }
   ],
   "source": [
    "def text_process(df):\n",
    "    # racinisation\n",
    "    stemmer = PorterStemmer()\n",
    "    # élimination des stop words anglais comme \"the, I, our etc\"\n",
    "    words = stopwords.words(\"english\") \n",
    "    df['cleaned_reviews'] = df['reviewText'].apply(lambda x: \" \".join([stemmer.stem(i) for i in re.sub(\"[^a-zA-Z]\", \" \", x).split() if i not in words]).lower())\n",
    "    print(\"Prétraitement des données en cours, patientez encore ...\")\n",
    "    print(\"===============================================================\")\n",
    "    print(\"...\")\n",
    "    print(\"...\")\n",
    "    print(\"...\")\n",
    "    df.to_csv(\"Raw/Amazon_Digital_Music_Cleaned.csv\", index = False)\n",
    "    print(\"Prétraitement terminé !\")\n",
    "    return df\n",
    "\n",
    "df = text_process(df)"
   ]
  },
  {
   "cell_type": "markdown",
   "id": "27576a79",
   "metadata": {},
   "source": [
    "Premières lignes des données prétraitées : "
   ]
  },
  {
   "cell_type": "code",
   "execution_count": 13,
   "id": "9971ffa5",
   "metadata": {},
   "outputs": [
    {
     "data": {
      "text/html": [
       "<div>\n",
       "<style scoped>\n",
       "    .dataframe tbody tr th:only-of-type {\n",
       "        vertical-align: middle;\n",
       "    }\n",
       "\n",
       "    .dataframe tbody tr th {\n",
       "        vertical-align: top;\n",
       "    }\n",
       "\n",
       "    .dataframe thead th {\n",
       "        text-align: right;\n",
       "    }\n",
       "</style>\n",
       "<table border=\"1\" class=\"dataframe\">\n",
       "  <thead>\n",
       "    <tr style=\"text-align: right;\">\n",
       "      <th></th>\n",
       "      <th>overall</th>\n",
       "      <th>reviewTime</th>\n",
       "      <th>reviewText</th>\n",
       "      <th>summary</th>\n",
       "      <th>y</th>\n",
       "      <th>cleaned_reviews</th>\n",
       "    </tr>\n",
       "  </thead>\n",
       "  <tbody>\n",
       "    <tr>\n",
       "      <th>0</th>\n",
       "      <td>5.0</td>\n",
       "      <td>12 22, 2013</td>\n",
       "      <td>this is a great cd full of worship favorites  ...</td>\n",
       "      <td>Great worship cd</td>\n",
       "      <td>2</td>\n",
       "      <td>great cd full worship favorit time great keith...</td>\n",
       "    </tr>\n",
       "    <tr>\n",
       "      <th>1</th>\n",
       "      <td>5.0</td>\n",
       "      <td>09 11, 2013</td>\n",
       "      <td>so creative  love his music  the words the mes...</td>\n",
       "      <td>Gotta listen to this!</td>\n",
       "      <td>2</td>\n",
       "      <td>creativ love music word messag favorit song cd...</td>\n",
       "    </tr>\n",
       "    <tr>\n",
       "      <th>2</th>\n",
       "      <td>5.0</td>\n",
       "      <td>03 2, 2013</td>\n",
       "      <td>keith green gone far to early in his carreer l...</td>\n",
       "      <td>Great approach still gets the message out</td>\n",
       "      <td>2</td>\n",
       "      <td>keith green gone far earli carreer left us gol...</td>\n",
       "    </tr>\n",
       "    <tr>\n",
       "      <th>3</th>\n",
       "      <td>5.0</td>\n",
       "      <td>12 2, 2012</td>\n",
       "      <td>keith green had his special comedy style of ch...</td>\n",
       "      <td>Great A must have</td>\n",
       "      <td>2</td>\n",
       "      <td>keith green special comedi style chirstian mus...</td>\n",
       "    </tr>\n",
       "    <tr>\n",
       "      <th>4</th>\n",
       "      <td>5.0</td>\n",
       "      <td>01 7, 2012</td>\n",
       "      <td>keith green  so you wanna go back to egypt  in...</td>\n",
       "      <td>A great one from Keith with a guest appearance...</td>\n",
       "      <td>2</td>\n",
       "      <td>keith green wanna go back egypt album keith ge...</td>\n",
       "    </tr>\n",
       "  </tbody>\n",
       "</table>\n",
       "</div>"
      ],
      "text/plain": [
       "   overall   reviewTime                                         reviewText  \\\n",
       "0      5.0  12 22, 2013  this is a great cd full of worship favorites  ...   \n",
       "1      5.0  09 11, 2013  so creative  love his music  the words the mes...   \n",
       "2      5.0   03 2, 2013  keith green gone far to early in his carreer l...   \n",
       "3      5.0   12 2, 2012  keith green had his special comedy style of ch...   \n",
       "4      5.0   01 7, 2012  keith green  so you wanna go back to egypt  in...   \n",
       "\n",
       "                                             summary  y  \\\n",
       "0                                   Great worship cd  2   \n",
       "1                              Gotta listen to this!  2   \n",
       "2          Great approach still gets the message out  2   \n",
       "3                                  Great A must have  2   \n",
       "4  A great one from Keith with a guest appearance...  2   \n",
       "\n",
       "                                     cleaned_reviews  \n",
       "0  great cd full worship favorit time great keith...  \n",
       "1  creativ love music word messag favorit song cd...  \n",
       "2  keith green gone far earli carreer left us gol...  \n",
       "3  keith green special comedi style chirstian mus...  \n",
       "4  keith green wanna go back egypt album keith ge...  "
      ]
     },
     "execution_count": 13,
     "metadata": {},
     "output_type": "execute_result"
    }
   ],
   "source": [
    "df.head()"
   ]
  },
  {
   "cell_type": "markdown",
   "id": "091acb2b",
   "metadata": {},
   "source": [
    "## Analyse exploratoire des données"
   ]
  },
  {
   "cell_type": "markdown",
   "id": "36dc9452",
   "metadata": {},
   "source": [
    "Il s'agit de présenter dans cette section une analyse descriptive des avis des consommateurs relativement aux produits qu'ils ont achetés."
   ]
  },
  {
   "cell_type": "markdown",
   "id": "efaf4af5",
   "metadata": {},
   "source": [
    "### Distributions des sentiments"
   ]
  },
  {
   "cell_type": "code",
   "execution_count": 14,
   "id": "d195d884",
   "metadata": {},
   "outputs": [],
   "source": [
    "#transformons d'abors les encodages numériques en étiquettes nominales\n",
    "df[\"classes\"] = df[\"overall\"]\n",
    "df[\"classes\"].replace({5.0: \"positive\",4.0:\"positive\",3.0:\"neutral\",2.0:\"negative\",1.0:\"negative\"}, inplace=True)\n",
    "df[\"classes\"].unique()\n",
    "\n",
    "# Supprimons aussi les lignes sans commentaires\n",
    "df = df.dropna(subset=['cleaned_reviews'])"
   ]
  },
  {
   "cell_type": "code",
   "execution_count": 15,
   "id": "145d8a46",
   "metadata": {},
   "outputs": [
    {
     "data": {
      "image/png": "[encoded data removed]",
      "text/plain": [
       "<Figure size 1080x576 with 1 Axes>"
      ]
     },
     "metadata": {
      "needs_background": "light"
     },
     "output_type": "display_data"
    }
   ],
   "source": [
    "fig, axes = plt.subplots(1, figsize=(15,8))\n",
    "fig.suptitle(\"Comparaison du ratio des évaluations neutres, négatives et positives\", fontsize = 25)\n",
    "plt.tight_layout(pad = 3.5)\n",
    "sns.countplot(x = \"classes\", data = df)\n",
    "axes.set_xlabel(\"Sentiment\", fontsize = 20)\n",
    "axes.set_ylabel(\"Fréquence\", fontsize = 20)\n",
    "sns.despine()"
   ]
  },
  {
   "cell_type": "markdown",
   "id": "2d3d8ad6",
   "metadata": {},
   "source": [
    "Les évaluations sont majoritairements positives, le jeu de données est déséquilibré !\n",
    "Ci-dessous figure une description des proportions de chaque sentiment : négatif, neutre et positif."
   ]
  },
  {
   "cell_type": "code",
   "execution_count": 16,
   "id": "70fe7523",
   "metadata": {},
   "outputs": [
    {
     "name": "stdout",
     "output_type": "stream",
     "text": [
      "Pourcentage de mots \"neutre\" --> 3.620204004590671 %\n",
      "Pourcentage de mots \"negatif\"  --> 4.208052360925761 %\n",
      "Pourcentage de mots \"positif\" --> 92.17174363448358 %\n"
     ]
    }
   ],
   "source": [
    "def pert_count(data, category):\n",
    "    return (len(data[data[\"classes\"] == category])/len(data)) * 100\n",
    "print(f\"Pourcentage de mots \\\"neutre\\\" --> {pert_count(df, 'neutral')} %\")\n",
    "print(f\"Pourcentage de mots \\\"negatif\\\"  --> {pert_count(df, 'negative')} %\")\n",
    "print(f\"Pourcentage de mots \\\"positif\\\" --> {pert_count(df, 'positive')} %\")"
   ]
  },
  {
   "cell_type": "markdown",
   "id": "b446fb1f",
   "metadata": {},
   "source": [
    "### Nuage de mots"
   ]
  },
  {
   "cell_type": "markdown",
   "id": "c49e28ad",
   "metadata": {},
   "source": [
    "Nous définissons la fonction ci-dessous pour réaliser un nuage des mots usuels :"
   ]
  },
  {
   "cell_type": "code",
   "execution_count": 17,
   "id": "145a25ff",
   "metadata": {},
   "outputs": [],
   "source": [
    "stopwords = set(STOPWORDS)\n",
    "def word_cloud(data, title):\n",
    "    wordcloud = WordCloud(\n",
    "    background_color = \"white\",\n",
    "    max_font_size = 40,\n",
    "    max_words = 200,\n",
    "    stopwords = stopwords,\n",
    "    scale = 3).generate(str(data))\n",
    "    fig = plt.figure(figsize = (7.5, 7.5))\n",
    "    plt.axis(\"off\")\n",
    "    if title: \n",
    "        fig.suptitle(title, fontsize=15)\n",
    "        fig.subplots_adjust(top=2.25)\n",
    "    plt.imshow(wordcloud)\n",
    "    plt.show()\n",
    "    print(\"\\n\")"
   ]
  },
  {
   "cell_type": "markdown",
   "id": "2b95f4f1",
   "metadata": {},
   "source": [
    "Réprésentons les nuages de mots les plus usuels en fonction des avis :"
   ]
  },
  {
   "cell_type": "code",
   "execution_count": 18,
   "id": "13b3d622",
   "metadata": {},
   "outputs": [
    {
     "data": {
      "image/png": "[encoded data removed]",
      "text/plain": [
       "<Figure size 540x540 with 1 Axes>"
      ]
     },
     "metadata": {
      "needs_background": "light"
     },
     "output_type": "display_data"
    },
    {
     "name": "stdout",
     "output_type": "stream",
     "text": [
      "\n",
      "\n"
     ]
    },
    {
     "data": {
      "image/png": "[encoded data removed]",
      "text/plain": [
       "<Figure size 540x540 with 1 Axes>"
      ]
     },
     "metadata": {
      "needs_background": "light"
     },
     "output_type": "display_data"
    },
    {
     "name": "stdout",
     "output_type": "stream",
     "text": [
      "\n",
      "\n"
     ]
    },
    {
     "data": {
      "image/png": "[encoded data removed]",
      "text/plain": [
       "<Figure size 540x540 with 1 Axes>"
      ]
     },
     "metadata": {
      "needs_background": "light"
     },
     "output_type": "display_data"
    },
    {
     "name": "stdout",
     "output_type": "stream",
     "text": [
      "\n",
      "\n"
     ]
    }
   ],
   "source": [
    "neu=df[df[\"classes\"] == \"neutral\"][\"cleaned_reviews\"]\n",
    "neg=df[df[\"classes\"] == \"negative\"][\"cleaned_reviews\"]\n",
    "pos=df[df[\"classes\"] == \"positive\"][\"cleaned_reviews\"]\n",
    "word_cloud(neu, \"Les mots les plus répétés dans les avis neutres\")\n",
    "word_cloud(pos, \"Les mots les plus répétés dans les avis positifs\")\n",
    "word_cloud(neg, \"Les mots les plus répétés dans les avis négatifs\")"
   ]
  },
  {
   "cell_type": "markdown",
   "id": "5ebe1a7a",
   "metadata": {},
   "source": [
    "### Expressions les plus fréquentes dans le jeu de données"
   ]
  },
  {
   "cell_type": "markdown",
   "id": "78688745",
   "metadata": {},
   "source": [
    "Nous présentons des bigrammes à partir des avis des consommateurs."
   ]
  },
  {
   "cell_type": "code",
   "execution_count": 19,
   "id": "3d570f26",
   "metadata": {},
   "outputs": [],
   "source": [
    "#création des bigrammes\n",
    "def get_top_n_bigram(corpus, n=None):\n",
    "    vec = CountVectorizer(ngram_range=(2, 2),stop_words='english').fit(corpus)\n",
    "    bag_of_words = vec.transform(corpus)\n",
    "    sum_words = bag_of_words.sum(axis=0) \n",
    "    words_freq = [(word, sum_words[0, idx]) for word, idx in vec.vocabulary_.items()]\n",
    "    words_freq =sorted(words_freq, key = lambda x: x[1], reverse=True)\n",
    "    return words_freq[:n]\n",
    "\n",
    "#tracés des bigrammes\n",
    "def n_gram_plot(data,title,color):\n",
    "    x=[x[0] for x in data]\n",
    "    y=[x[1] for x in data]\n",
    "    sns.barplot(y,x,color='{}'.format(color))\n",
    "    plt.title('Commentaire {} (Bigramme)'.format(title),fontsize=10)\n",
    "    plt.yticks(rotation=0,fontsize=15)"
   ]
  },
  {
   "cell_type": "code",
   "execution_count": 20,
   "id": "cca2e744",
   "metadata": {},
   "outputs": [
    {
     "data": {
      "image/png": "[encoded data removed]",
      "text/plain": [
       "<Figure size 720x360 with 3 Axes>"
      ]
     },
     "metadata": {
      "needs_background": "light"
     },
     "output_type": "display_data"
    }
   ],
   "source": [
    "common_words_good = get_top_n_bigram(pos, 5)\n",
    "common_words_neutral= get_top_n_bigram(neu, 5)\n",
    "common_words_bad= get_top_n_bigram(neg, 5)\n",
    "\n",
    "plt.figure(figsize=(10,5))\n",
    "\n",
    "#top 5 bigrammes des avis positifs\n",
    "plt.subplot(151)\n",
    "n_gram_plot(common_words_good,'Positif','green')\n",
    "#============================================= \n",
    "#top 5 bigrammes des avis neutres\n",
    "plt.subplot(153)\n",
    "n_gram_plot(common_words_neutral,'Neutre','yellow')\n",
    "#============================================= \n",
    "#top 5 bigrammes des avis négatifs\n",
    "plt.subplot(155)\n",
    "n_gram_plot(common_words_bad,'Mauvais','red')\n",
    "plt.show()"
   ]
  },
  {
   "cell_type": "markdown",
   "id": "5e69f0d1",
   "metadata": {},
   "source": [
    "On peut voir que les commentaires postifs et négatifs sont très proches."
   ]
  },
  {
   "cell_type": "markdown",
   "id": "aaf20472",
   "metadata": {},
   "source": [
    "# Analyse de sentiments"
   ]
  },
  {
   "cell_type": "markdown",
   "id": "15b73f58",
   "metadata": {},
   "source": [
    "Dans cette section, nous menons une analyse de sentiment les avis des consommateurs. Le but est de prédire le type de commentaire (positif, neutre ou négatif) par le texte du commentaire. Nous commençons par entraîner un modèle LSTM classique. Ce modèle est considéré par la suite comme un benchmark. Nous utilisons dans un second temps un modèle pré-entraîné connu pour ses bonnes performances pour l'analyse de sentiment, BERT (Google, 2015). Il s'agira de voir si nous obtenons des gains de performances avec BERT par rapport à notre LSTM."
   ]
  },
  {
   "cell_type": "code",
   "execution_count": 21,
   "id": "56c224db",
   "metadata": {},
   "outputs": [],
   "source": [
    "#chargeons le jeu de données prétraitées\n",
    "df = pd.read_csv(\"Raw/Amazon_Digital_Music_Cleaned.csv\")"
   ]
  },
  {
   "cell_type": "markdown",
   "id": "25c73ec4",
   "metadata": {},
   "source": [
    "La taille du jeu de données est relativement importante ainsi l'entrainement des modèle peut prendre du temps. Nous vous recommandons de choisir une taille raisonnable pour une obtention rapide des résultats, cependant rien ne vous empêche de choisir la taille maximale du jeu de données. Par exemple, sur notre espace local de travail avec un GPU RTX 2060, nous mettons environs 23 heures de temps pour entrainer BERT sur toutes les observations et 3h pour 100 000 observations. Le temps est encore réduit pour 20 000 observations. \n",
    "\n",
    "*NB : Notre GPU étant plus réçent que celui mis à disposition par Google Colab non Pro, nos exécutions sont encore plus rapides en local que sur Colab, ainsi il faudra choisir une taille raisonnable pour l'exécution sur Colab, par exemple 10 000, 20 000 ou 50 000 pour aller vite. Néanmoins nous avons faire nos tests avec 100 000 observations sur Colab.*"
   ]
  },
  {
   "cell_type": "markdown",
   "id": "efc9e307",
   "metadata": {},
   "source": [
    "### LSTM"
   ]
  },
  {
   "cell_type": "markdown",
   "id": "46c1b240",
   "metadata": {},
   "source": [
    "Développons, à présent, notre modélisation LSTM pour l'analyse de sentiment."
   ]
  },
  {
   "cell_type": "markdown",
   "id": "884d7331",
   "metadata": {},
   "source": [
    "L'analyse des bigrammes et des nuages de points révèle que les deux classes : neutres et négatifs sont plutôt très proches. Nous nous proposons de les rassembler avant d'appliquer notre modèle LSTM."
   ]
  },
  {
   "cell_type": "code",
   "execution_count": 22,
   "id": "09afda4e",
   "metadata": {},
   "outputs": [
    {
     "data": {
      "text/plain": [
       "1    1460076\n",
       "0     124006\n",
       "Name: y, dtype: int64"
      ]
     },
     "execution_count": 22,
     "metadata": {},
     "output_type": "execute_result"
    }
   ],
   "source": [
    "def classify(x):\n",
    "    if x == 0 or x == 1:\n",
    "        return 0 #négatif\n",
    "    return 1 #positif\n",
    "\n",
    "df[\"y\"] = df[\"y\"].apply(classify)\n",
    "df[\"y\"].value_counts()"
   ]
  },
  {
   "cell_type": "markdown",
   "id": "7e9e9c65",
   "metadata": {},
   "source": [
    "Comme le jeu de données est déséquilibré, nous le réquilibrons avant entrainement du LSTM en prenant, de part et d'autres, la moitié comme taille des données échantillonnées pour la classe des négatifs et des positifs."
   ]
  },
  {
   "cell_type": "code",
   "execution_count": 23,
   "id": "1abe8c5d",
   "metadata": {},
   "outputs": [
    {
     "data": {
      "text/plain": [
       "y\n",
       "0    10000\n",
       "1    10000\n",
       "dtype: int64"
      ]
     },
     "execution_count": 23,
     "metadata": {},
     "output_type": "execute_result"
    }
   ],
   "source": [
    "n_sample = 20000\n",
    "df_negatives = df[df.y == 0].sample(n = int(n_sample/2) , random_state=1)\n",
    "df_positives = df[df.y == 1].sample(n = int(n_sample/2) , random_state=1)\n",
    "df_balanced = pd.concat([df_negatives, df_positives])\n",
    "df_balanced.value_counts('y')"
   ]
  },
  {
   "cell_type": "markdown",
   "id": "37a880bc",
   "metadata": {},
   "source": [
    "Nous créons ensuite un vocabulaire associant un nombre à chaque mot de notre corpus. Pour cela, nous rassemblons tous les mots présents dans une liste, puis nous créons un dictionnaire associant chaque mot à un index (en ajoutant \"pad\" pour les fins de phrase et \"unk\" pour les mots qui n'apparaissent pas dans le corpus)."
   ]
  },
  {
   "cell_type": "code",
   "execution_count": 24,
   "id": "829c3c1e",
   "metadata": {
    "scrolled": true
   },
   "outputs": [],
   "source": [
    "df_balanced[\"cleaned_reviews\"] = df_balanced[\"cleaned_reviews\"].astype(\"str\")\n",
    "all_words = [w for s in df_balanced.cleaned_reviews.values.tolist() for w in s.split()]\n",
    "words = Counter(all_words)\n",
    "words = {k:v for k,v in words.items() if v > 1}\n",
    "words = sorted(words, key = words.get, reverse = True)\n",
    "words = ['_PAD', '_UNK'] + words"
   ]
  },
  {
   "cell_type": "markdown",
   "id": "60f30686",
   "metadata": {},
   "source": [
    "Porcédons au padding des données : "
   ]
  },
  {
   "cell_type": "code",
   "execution_count": 25,
   "id": "7ab81366",
   "metadata": {},
   "outputs": [],
   "source": [
    "word_to_idx = { w : i for i,w in enumerate(words) }\n",
    "idx_to_word = {v : k for k,v in word_to_idx.items()}\n",
    "\n",
    "def process_sequence(text_sequence):\n",
    "    global word_to_idx\n",
    "    res = []\n",
    "    for w in text_sequence:\n",
    "        if w in word_to_idx:\n",
    "            res.append(word_to_idx[w])\n",
    "        else:\n",
    "            res.append(1)\n",
    "    return res\n",
    "\n",
    "X = [process_sequence(s.split()) for s in df_balanced.cleaned_reviews.values.tolist()]\n",
    "y = df_balanced.y.values.tolist()\n",
    "X_train, X_test, y_train, y_test = train_test_split(X, y, random_state = 1)\n",
    "\n",
    "#padding des données\n",
    "MAX_LEN = max([len(s) for s in  X_train])\n",
    "X_train = pad_sequences(X_train, maxlen = MAX_LEN, padding = 'pre')\n",
    "X_test = pad_sequences(X_test, maxlen = MAX_LEN, padding = 'pre')\n",
    "y_train = np.array(y_train)\n",
    "y_test = np.array(y_test)"
   ]
  },
  {
   "cell_type": "markdown",
   "id": "9528fb5a",
   "metadata": {},
   "source": [
    "Entrainons à présent notre LSTM pour l'analyse de sentiments :"
   ]
  },
  {
   "cell_type": "code",
   "execution_count": 26,
   "id": "983f9633",
   "metadata": {},
   "outputs": [],
   "source": [
    "#formattage des données train et test pour pytorch\n",
    "train_data = TensorDataset(torch.from_numpy(X_train), torch.from_numpy(y_train))\n",
    "test_data = TensorDataset(torch.from_numpy(X_test), torch.from_numpy(y_test))\n",
    "\n",
    "###taille du batch\n",
    "batch_size = 32 #gérer la taille du batch en fonction de ses capacités GPU, chez le max c'est 32 pour cette architecture\n",
    "\n",
    "train_loader = DataLoader(train_data, shuffle = True, batch_size = batch_size, drop_last = True)\n",
    "test_loader = DataLoader(test_data, shuffle = True, batch_size = batch_size, drop_last = True)"
   ]
  },
  {
   "cell_type": "code",
   "execution_count": 27,
   "id": "af70949d",
   "metadata": {},
   "outputs": [],
   "source": [
    "#architecture du réseau de neurones\n",
    "class SentimentLSTM(nn.Module):\n",
    "    def __init__(self, vocab_size, output_size, embedding_dim, hidden_dim, n_layers, drop_prob = 0.5):\n",
    "        super(SentimentLSTM, self).__init__()\n",
    "        self.output_size = output_size\n",
    "        self.n_layers = n_layers\n",
    "        self.hidden_dim = hidden_dim\n",
    "        \n",
    "        self.embedding = nn.Embedding(vocab_size, embedding_dim)\n",
    "        self.lstm = nn.LSTM(embedding_dim, hidden_dim, n_layers, dropout=drop_prob, batch_first = True)\n",
    "        self.dropout = nn.Dropout(0.2)\n",
    "        self.fc = nn.Linear(hidden_dim, output_size) # fully connected\n",
    "        self.sigmoid = nn.Sigmoid()\n",
    "        \n",
    "    def forward(self, x, hidden):\n",
    "        batch_size = x.size(0)\n",
    "        x = x.long() # cast to long tensor\n",
    "        embeds = self.embedding(x)\n",
    "        lstm_out, hidden = self.lstm(embeds, hidden)\n",
    "        lstm_out = lstm_out.contiguous().view(-1, self.hidden_dim)\n",
    "        \n",
    "        out = self.dropout(lstm_out)\n",
    "        out = self.fc(out)\n",
    "        out = self.sigmoid(out)\n",
    "        \n",
    "        out = out.view(batch_size, -1)\n",
    "        out = out[:,-1]\n",
    "        return out, hidden\n",
    "    \n",
    "    def init_hidden(self, batch_size):\n",
    "        weight = next(self.parameters()).data\n",
    "        hidden = (weight.new(self.n_layers, batch_size, self.hidden_dim).zero_().to(device),\n",
    "                      weight.new(self.n_layers, batch_size, self.hidden_dim).zero_().to(device))\n",
    "        return hidden"
   ]
  },
  {
   "cell_type": "code",
   "execution_count": 28,
   "id": "b8ab8c11",
   "metadata": {},
   "outputs": [
    {
     "name": "stdout",
     "output_type": "stream",
     "text": [
      "GPU is available\n"
     ]
    }
   ],
   "source": [
    "#Tester la presence d'un GPU\n",
    "is_cuda = torch.cuda.is_available()\n",
    "\n",
    "if is_cuda:\n",
    "    device = torch.device(\"cuda\")\n",
    "    print(\"GPU is available\")\n",
    "else:\n",
    "    device = torch.device(\"cpu\")\n",
    "    print(\"GPU not available, CPU used\")"
   ]
  },
  {
   "cell_type": "code",
   "execution_count": 29,
   "id": "427c5f81",
   "metadata": {},
   "outputs": [
    {
     "name": "stdout",
     "output_type": "stream",
     "text": [
      "SentimentLSTM(\n",
      "  (embedding): Embedding(13688, 400)\n",
      "  (lstm): LSTM(400, 512, num_layers=2, batch_first=True, dropout=0.5)\n",
      "  (dropout): Dropout(p=0.2, inplace=False)\n",
      "  (fc): Linear(in_features=512, out_features=1, bias=True)\n",
      "  (sigmoid): Sigmoid()\n",
      ")\n"
     ]
    }
   ],
   "source": [
    "vocab_size = len(word_to_idx) + 1\n",
    "output_size = 1\n",
    "embedding_dim = 400 #essayer aussi 128 ou 256\n",
    "hidden_dim = 512 #essayer aussi 256\n",
    "n_layers = 2\n",
    "\n",
    "model = SentimentLSTM(vocab_size, output_size, embedding_dim, hidden_dim, n_layers)\n",
    "model.to(device)\n",
    "print(model)"
   ]
  },
  {
   "cell_type": "code",
   "execution_count": 30,
   "id": "cf1a1a4d",
   "metadata": {},
   "outputs": [],
   "source": [
    "#taux d'apprentissage fixe et optimiseur Adam\n",
    "lr = 0.005\n",
    "criterion = nn.BCELoss() \n",
    "optimizer = torch.optim.Adam(model.parameters(), lr = lr)"
   ]
  },
  {
   "cell_type": "code",
   "execution_count": 31,
   "id": "7ae8b351",
   "metadata": {
    "scrolled": false
   },
   "outputs": [
    {
     "name": "stdout",
     "output_type": "stream",
     "text": [
      "Test loss: 0.633\n",
      "Test accuracy: 64.440%\n",
      "Epoch: 1/1... Step: 50... Loss: 0.585851... Test Loss: 0.633457\n",
      "Test loss decreased (inf --> 0.633457).  Saving model ...\n",
      "Test loss: 0.585\n",
      "Test accuracy: 71.160%\n",
      "Epoch: 1/1... Step: 100... Loss: 0.604878... Test Loss: 0.585405\n",
      "Test loss decreased (0.633457 --> 0.585405).  Saving model ...\n",
      "Test loss: 0.555\n",
      "Test accuracy: 70.680%\n",
      "Epoch: 1/1... Step: 150... Loss: 0.554875... Test Loss: 0.555337\n",
      "Test loss decreased (0.585405 --> 0.555337).  Saving model ...\n",
      "Test loss: 0.464\n",
      "Test accuracy: 78.100%\n",
      "Epoch: 1/1... Step: 200... Loss: 0.402591... Test Loss: 0.464402\n",
      "Test loss decreased (0.555337 --> 0.464402).  Saving model ...\n",
      "Test loss: 0.462\n",
      "Test accuracy: 78.920%\n",
      "Epoch: 1/1... Step: 250... Loss: 0.335612... Test Loss: 0.462341\n",
      "Test loss decreased (0.464402 --> 0.462341).  Saving model ...\n",
      "Test loss: 0.457\n",
      "Test accuracy: 79.380%\n",
      "Epoch: 1/1... Step: 300... Loss: 0.350622... Test Loss: 0.456509\n",
      "Test loss decreased (0.462341 --> 0.456509).  Saving model ...\n",
      "Test loss: 0.471\n",
      "Test accuracy: 78.580%\n",
      "Epoch: 1/1... Step: 350... Loss: 0.438083... Test Loss: 0.470981\n",
      "Test loss: 0.434\n",
      "Test accuracy: 80.840%\n",
      "Epoch: 1/1... Step: 400... Loss: 0.276909... Test Loss: 0.433950\n",
      "Test loss decreased (0.456509 --> 0.433950).  Saving model ...\n",
      "Test loss: 0.432\n",
      "Test accuracy: 80.360%\n",
      "Epoch: 1/1... Step: 450... Loss: 0.449244... Test Loss: 0.431636\n",
      "Test loss decreased (0.433950 --> 0.431636).  Saving model ...\n"
     ]
    }
   ],
   "source": [
    "#entrainement du LSTM\n",
    "epochs = 1\n",
    "counter = 0\n",
    "print_every = 50\n",
    "clip = 5\n",
    "test_loss_min = np.Inf\n",
    "\n",
    "model.train()\n",
    "\n",
    "for i in range(epochs):\n",
    "    h = model.init_hidden(batch_size)\n",
    "    \n",
    "    for inputs, labels in train_loader:\n",
    "        counter += 1\n",
    "        inputs, labels = inputs.to(device), labels.to(device)\n",
    "        h = tuple([e.data for e in h])\n",
    "        model.zero_grad()  \n",
    "        output, h = model(inputs, h) \n",
    "        loss = criterion(output.squeeze(), labels.float())\n",
    "        loss.backward()\n",
    "        nn.utils.clip_grad_norm_(model.parameters(), clip)\n",
    "        optimizer.step()\n",
    "        \n",
    "        if counter%print_every == 0:\n",
    "            test_h = model.init_hidden(batch_size)\n",
    "            test_losses = []\n",
    "            num_correct = 0\n",
    "            model.eval()\n",
    "            for inp, lab in test_loader:\n",
    "                test_h = tuple([each.data for each in test_h])\n",
    "                inp, lab = inp.to(device), lab.to(device)\n",
    "                out, test_h = model(inp, test_h)\n",
    "                test_loss = criterion(out.squeeze(), lab.float())\n",
    "                test_losses.append(test_loss.item())\n",
    "                \n",
    "                pred = torch.round(out.squeeze())\n",
    "                correct_tensor = pred.eq(lab.float().view_as(pred))\n",
    "                correct = np.squeeze(correct_tensor.cpu().numpy())\n",
    "                num_correct += np.sum(correct) # sums matches\n",
    "\n",
    "            print(\"Test loss: {:.3f}\".format(np.mean(test_losses)))\n",
    "            test_acc = num_correct/len(test_loader.dataset)\n",
    "            print(\"Test accuracy: {:.3f}%\".format(test_acc*100))\n",
    "\n",
    "                \n",
    "            model.train()\n",
    "            print(\"Epoch: {}/{}...\".format(i+1, epochs),\n",
    "                  \"Step: {}...\".format(counter),\n",
    "                  \"Loss: {:.6f}...\".format(loss.item()),\n",
    "                  \"Test Loss: {:.6f}\".format(np.mean(test_losses)))\n",
    "            if np.mean(test_losses) <= test_loss_min:\n",
    "                torch.save(model.state_dict(), 'Modeles/best_LSTM_model.pt')\n",
    "                print('Test loss decreased ({:.6f} --> {:.6f}).  Saving model ...'.format(test_loss_min, np.mean(test_losses)))\n",
    "                test_loss_min = np.mean(test_losses)"
   ]
  },
  {
   "cell_type": "markdown",
   "id": "645523e1",
   "metadata": {},
   "source": [
    "Nous obtenons une performance moyenne de 79% d'accuracy après avoir entrainé sur 20 000 instances."
   ]
  },
  {
   "cell_type": "markdown",
   "id": "6d8f48b6",
   "metadata": {},
   "source": [
    "### BERT"
   ]
  },
  {
   "cell_type": "markdown",
   "id": "85bed772",
   "metadata": {},
   "source": [
    "Nous entrainons directement BERT à discrimer les avis négatifs, des neutres et des positifs. Nous prenons encore le soin de rééquilibrer les données avant leur entrainement."
   ]
  },
  {
   "cell_type": "code",
   "execution_count": 32,
   "id": "f5d81924",
   "metadata": {},
   "outputs": [],
   "source": [
    "#chargeons le jeu de données prétraitées\n",
    "df = pd.read_csv(\"Raw/Amazon_Digital_Music_Cleaned.csv\")"
   ]
  },
  {
   "cell_type": "code",
   "execution_count": 33,
   "id": "fbd4dc41",
   "metadata": {},
   "outputs": [],
   "source": [
    "#échantillonnage pour l'éxécution rapide\n",
    "#n_sample = 20000\n",
    "#print(\"Distribution du target avant échantillonnage : \")\n",
    "#print(df[\"y\"].value_counts(normalize = \"True\")*100)\n",
    "#df = df.sample(n=n_sample, weights='overall', random_state=1).reset_index(drop=True)\n",
    "#print(\"Distribution du target après échantillonnage : \")\n",
    "#print(df[\"y\"].value_counts(normalize = \"True\")*100)\n",
    "#print(\"\"\"On veille à plus ou moins (quelques écarts après tirages) conserver les distributions du target dans l'échantillonnage !\"\"\")"
   ]
  },
  {
   "cell_type": "code",
   "execution_count": 34,
   "id": "003ce519",
   "metadata": {},
   "outputs": [
    {
     "data": {
      "text/plain": [
       "y\n",
       "0    6666\n",
       "1    6666\n",
       "2    6666\n",
       "dtype: int64"
      ]
     },
     "execution_count": 34,
     "metadata": {},
     "output_type": "execute_result"
    }
   ],
   "source": [
    "n_sample = 20000\n",
    "df_negatives = df[df.y == 0].sample(n = int(n_sample/3) , random_state=1)\n",
    "df_neutres = df[df.y == 1].sample(n = int(n_sample/3) , random_state=1)\n",
    "df_positives = df[df.y == 2].sample(n = int(n_sample/3) , random_state=1)\n",
    "df_balanced = pd.concat([df_negatives, df_neutres, df_positives])\n",
    "df_balanced.value_counts('y')"
   ]
  },
  {
   "cell_type": "code",
   "execution_count": 35,
   "id": "38640150",
   "metadata": {},
   "outputs": [
    {
     "data": {
      "text/plain": [
       "{0: 0, 1: 1, 2: 2}"
      ]
     },
     "execution_count": 35,
     "metadata": {},
     "output_type": "execute_result"
    }
   ],
   "source": [
    "#Création d'un dictionnaire qui contient tous les claases uniques de y\n",
    "df = df_balanced\n",
    "possible_labels = df.y.unique()\n",
    "label_dict = {}\n",
    "for index, possible_label in enumerate(possible_labels):\n",
    "    label_dict[possible_label] = int(possible_label)\n",
    "label_dict"
   ]
  },
  {
   "cell_type": "code",
   "execution_count": 36,
   "id": "71aa5af6",
   "metadata": {},
   "outputs": [],
   "source": [
    "#renommage de y en label\n",
    "df['label'] = [label_dict[str_label] for str_label in df['y']]"
   ]
  },
  {
   "cell_type": "code",
   "execution_count": 37,
   "id": "aef16468",
   "metadata": {},
   "outputs": [
    {
     "data": {
      "text/html": [
       "<div>\n",
       "<style scoped>\n",
       "    .dataframe tbody tr th:only-of-type {\n",
       "        vertical-align: middle;\n",
       "    }\n",
       "\n",
       "    .dataframe tbody tr th {\n",
       "        vertical-align: top;\n",
       "    }\n",
       "\n",
       "    .dataframe thead th {\n",
       "        text-align: right;\n",
       "    }\n",
       "</style>\n",
       "<table border=\"1\" class=\"dataframe\">\n",
       "  <thead>\n",
       "    <tr style=\"text-align: right;\">\n",
       "      <th></th>\n",
       "      <th></th>\n",
       "      <th></th>\n",
       "      <th>overall</th>\n",
       "      <th>reviewTime</th>\n",
       "      <th>reviewText</th>\n",
       "      <th>summary</th>\n",
       "      <th>cleaned_reviews</th>\n",
       "    </tr>\n",
       "    <tr>\n",
       "      <th>y</th>\n",
       "      <th>label</th>\n",
       "      <th>data_type</th>\n",
       "      <th></th>\n",
       "      <th></th>\n",
       "      <th></th>\n",
       "      <th></th>\n",
       "      <th></th>\n",
       "    </tr>\n",
       "  </thead>\n",
       "  <tbody>\n",
       "    <tr>\n",
       "      <th rowspan=\"2\" valign=\"top\">0</th>\n",
       "      <th rowspan=\"2\" valign=\"top\">0</th>\n",
       "      <th>train</th>\n",
       "      <td>4000</td>\n",
       "      <td>4000</td>\n",
       "      <td>3998</td>\n",
       "      <td>3998</td>\n",
       "      <td>3989</td>\n",
       "    </tr>\n",
       "    <tr>\n",
       "      <th>val</th>\n",
       "      <td>2666</td>\n",
       "      <td>2666</td>\n",
       "      <td>2666</td>\n",
       "      <td>2666</td>\n",
       "      <td>2662</td>\n",
       "    </tr>\n",
       "    <tr>\n",
       "      <th rowspan=\"2\" valign=\"top\">1</th>\n",
       "      <th rowspan=\"2\" valign=\"top\">1</th>\n",
       "      <th>train</th>\n",
       "      <td>3999</td>\n",
       "      <td>3999</td>\n",
       "      <td>3999</td>\n",
       "      <td>3998</td>\n",
       "      <td>3990</td>\n",
       "    </tr>\n",
       "    <tr>\n",
       "      <th>val</th>\n",
       "      <td>2667</td>\n",
       "      <td>2667</td>\n",
       "      <td>2666</td>\n",
       "      <td>2667</td>\n",
       "      <td>2662</td>\n",
       "    </tr>\n",
       "    <tr>\n",
       "      <th rowspan=\"2\" valign=\"top\">2</th>\n",
       "      <th rowspan=\"2\" valign=\"top\">2</th>\n",
       "      <th>train</th>\n",
       "      <td>3999</td>\n",
       "      <td>3999</td>\n",
       "      <td>3995</td>\n",
       "      <td>3998</td>\n",
       "      <td>3986</td>\n",
       "    </tr>\n",
       "    <tr>\n",
       "      <th>val</th>\n",
       "      <td>2667</td>\n",
       "      <td>2667</td>\n",
       "      <td>2663</td>\n",
       "      <td>2667</td>\n",
       "      <td>2661</td>\n",
       "    </tr>\n",
       "  </tbody>\n",
       "</table>\n",
       "</div>"
      ],
      "text/plain": [
       "                   overall  reviewTime  reviewText  summary  cleaned_reviews\n",
       "y label data_type                                                           \n",
       "0 0     train         4000        4000        3998     3998             3989\n",
       "        val           2666        2666        2666     2666             2662\n",
       "1 1     train         3999        3999        3999     3998             3990\n",
       "        val           2667        2667        2666     2667             2662\n",
       "2 2     train         3999        3999        3995     3998             3986\n",
       "        val           2667        2667        2663     2667             2661"
      ]
     },
     "execution_count": 37,
     "metadata": {},
     "output_type": "execute_result"
    }
   ],
   "source": [
    "#sépartion du jeu de données en données d'entraînement et de validation\n",
    "X_train, X_val, y_train, y_val = train_test_split(df.index.values, \n",
    "                                                  df.label.values, \n",
    "                                                  test_size=0.40, \n",
    "                                                  random_state=42, \n",
    "                                                  stratify=df.label.values)\n",
    "\n",
    "#création d'une colonne data_type pour indiquer si chaque instance est dans le val ou le train\n",
    "df['data_type'] = ['not_set']*df.shape[0]\n",
    "df.loc[X_train, 'data_type'] = 'train'\n",
    "df.loc[X_val, 'data_type'] = 'val'\n",
    "df.groupby(['y', 'label', 'data_type']).count()"
   ]
  },
  {
   "cell_type": "code",
   "execution_count": 38,
   "id": "0638a65b",
   "metadata": {},
   "outputs": [
    {
     "name": "stderr",
     "output_type": "stream",
     "text": [
      "Truncation was not explicitly activated but `max_length` is provided a specific value, please use `truncation=True` to explicitly truncate examples to max length. Defaulting to 'longest_first' truncation strategy. If you encode pairs of sequences (GLUE-style) with the tokenizer you can select this strategy more precisely by providing a specific strategy to `truncation`.\n"
     ]
    }
   ],
   "source": [
    "#initialisation du tokenizer pour BERT\n",
    "df['reviewText'] = df['reviewText'].astype(\"str\")\n",
    "df[\"cleaned_reviews\"] = df[\"cleaned_reviews\"].astype(\"str\")\n",
    "\n",
    "tokenizer = BertTokenizer.from_pretrained('bert-base-uncased', \n",
    "                                          do_lower_case=True)              \n",
    "#encodage du batch pour le train                           \n",
    "encoded_data_train = tokenizer.batch_encode_plus(\n",
    "    df[df.data_type=='train'].reviewText.values, \n",
    "    add_special_tokens=True, \n",
    "    return_attention_mask=True, \n",
    "    pad_to_max_length=True, \n",
    "    max_length=256, \n",
    "    return_tensors='pt'\n",
    ")\n",
    "#Encodage du batch pour le val                         \n",
    "encoded_data_val = tokenizer.batch_encode_plus(\n",
    "    df[df.data_type=='val'].reviewText.values, \n",
    "    add_special_tokens=True, \n",
    "    return_attention_mask=True, \n",
    "    pad_to_max_length=True, \n",
    "    max_length=256, \n",
    "    return_tensors='pt'\n",
    ")\n",
    "\n",
    "#extraction de variables des objets encodés pour un usage simple\n",
    "input_ids_train = encoded_data_train['input_ids']\n",
    "attention_masks_train = encoded_data_train['attention_mask']\n",
    "\n",
    "labels_train = torch.tensor(df[df.data_type=='train'].label.values)\n",
    "\n",
    "input_ids_val = encoded_data_val['input_ids']\n",
    "attention_masks_val = encoded_data_val['attention_mask']\n",
    "\n",
    "#création des tenseurs\n",
    "labels_val = torch.tensor(df[df.data_type=='val'].label.values)\n",
    "dataset_train = TensorDataset(input_ids_train, attention_masks_train, labels_train)\n",
    "dataset_val = TensorDataset(input_ids_val, attention_masks_val, labels_val)"
   ]
  },
  {
   "cell_type": "code",
   "execution_count": 39,
   "id": "70a34b10",
   "metadata": {},
   "outputs": [
    {
     "name": "stderr",
     "output_type": "stream",
     "text": [
      "Some weights of the model checkpoint at bert-base-uncased were not used when initializing BertForSequenceClassification: ['cls.seq_relationship.weight', 'cls.predictions.decoder.weight', 'cls.predictions.transform.dense.bias', 'cls.predictions.transform.LayerNorm.weight', 'cls.predictions.transform.dense.weight', 'cls.predictions.transform.LayerNorm.bias', 'cls.seq_relationship.bias', 'cls.predictions.bias']\n",
      "- This IS expected if you are initializing BertForSequenceClassification from the checkpoint of a model trained on another task or with another architecture (e.g. initializing a BertForSequenceClassification model from a BertForPreTraining model).\n",
      "- This IS NOT expected if you are initializing BertForSequenceClassification from the checkpoint of a model that you expect to be exactly identical (initializing a BertForSequenceClassification model from a BertForSequenceClassification model).\n",
      "Some weights of BertForSequenceClassification were not initialized from the model checkpoint at bert-base-uncased and are newly initialized: ['classifier.bias', 'classifier.weight']\n",
      "You should probably TRAIN this model on a down-stream task to be able to use it for predictions and inference.\n"
     ]
    }
   ],
   "source": [
    "#initialisation du BERT pour la classification de séquences\n",
    "model = BertForSequenceClassification.from_pretrained(\"bert-base-uncased\",\n",
    "                                                      num_labels=len(label_dict),\n",
    "                                                      output_attentions=False,\n",
    "                                                      output_hidden_states=False)"
   ]
  },
  {
   "cell_type": "code",
   "execution_count": 40,
   "id": "bd16c3c4",
   "metadata": {},
   "outputs": [],
   "source": [
    "batch_size = 1\n",
    "dataloader_train = DataLoader(dataset_train, \n",
    "                              sampler=RandomSampler(dataset_train), \n",
    "                              batch_size=batch_size)\n",
    "dataloader_validation = DataLoader(dataset_val, \n",
    "                                   sampler=SequentialSampler(dataset_val), \n",
    "                                   batch_size=batch_size)"
   ]
  },
  {
   "cell_type": "code",
   "execution_count": 41,
   "id": "f32f2c18",
   "metadata": {},
   "outputs": [],
   "source": [
    "#usage de l'optimiseur ADAM\n",
    "optimizer = AdamW(model.parameters(),\n",
    "                  lr=1e-5, \n",
    "                  eps=1e-8)\n",
    "                  \n",
    "#définissions du nombre d'epochs\n",
    "epochs = 3\n",
    "\n",
    "#échéancier d'apprentissage gerer le dynamique du taux d'apprentissage\n",
    "scheduler = get_linear_schedule_with_warmup(optimizer, \n",
    "                                            num_warmup_steps=0,\n",
    "                                            num_training_steps=len(dataloader_train)*epochs)"
   ]
  },
  {
   "cell_type": "code",
   "execution_count": 42,
   "id": "961147e5",
   "metadata": {},
   "outputs": [],
   "source": [
    "#calcul de la f1 score\n",
    "def f1_score_func(preds, labels):\n",
    "    preds_flat = np.argmax(preds, axis=1).flatten()\n",
    "    labels_flat = labels.flatten()\n",
    "    return f1_score(labels_flat, preds_flat, average='weighted')\n",
    "\n",
    "#calcul de l'accuracy par classe de notation (negatif, neutre, positif)\n",
    "def accuracy_per_class(preds, labels):\n",
    "    label_dict_inverse = {v: k for k, v in label_dict.items()}\n",
    "    \n",
    "    preds_flat = np.argmax(preds, axis=1).flatten()\n",
    "    labels_flat = labels.flatten()\n",
    "    correct=0\n",
    "    total=0\n",
    "    for label in np.unique(labels_flat):\n",
    "        y_preds = preds_flat[labels_flat==label]\n",
    "        y_true = labels_flat[labels_flat==label]\n",
    "        print(f'Class: {label_dict_inverse[label]}')\n",
    "        print(f'Accuracy: {len(y_preds[y_preds==label])}/{len(y_true)}\\n')\n",
    "        correct+=len(y_preds[y_preds==label])\n",
    "        total+=len(y_true)\n",
    "    print(f'Bert Model Accuracy Overall :',correct/total)"
   ]
  },
  {
   "cell_type": "code",
   "execution_count": 43,
   "id": "83d8db1d",
   "metadata": {
    "scrolled": true
   },
   "outputs": [
    {
     "name": "stdout",
     "output_type": "stream",
     "text": [
      "cuda\n"
     ]
    }
   ],
   "source": [
    "#verification de la présence d'un GPU. Sinon utilisation d'un CPU\n",
    "device = torch.device('cuda' if torch.cuda.is_available() else 'cpu')\n",
    "#device = torch.device(\"cpu\")\n",
    "model.to(device)\n",
    "print(device)"
   ]
  },
  {
   "cell_type": "code",
   "execution_count": 44,
   "id": "b9c2d80f",
   "metadata": {
    "scrolled": false
   },
   "outputs": [
    {
     "data": {
      "application/vnd.jupyter.widget-view+json": {
       "model_id": "96218c25b4bd48c7947ad51a75a60db2",
       "version_major": 2,
       "version_minor": 0
      },
      "text/plain": [
       "  0%|          | 0/3 [00:00<?, ?it/s]"
      ]
     },
     "metadata": {},
     "output_type": "display_data"
    },
    {
     "data": {
      "application/vnd.jupyter.widget-view+json": {
       "model_id": "",
       "version_major": 2,
       "version_minor": 0
      },
      "text/plain": [
       "Epoch 1:   0%|          | 0/11998 [00:00<?, ?it/s]"
      ]
     },
     "metadata": {},
     "output_type": "display_data"
    },
    {
     "name": "stdout",
     "output_type": "stream",
     "text": [
      "\n",
      "Epoch 1\n",
      "Training loss: 1.2320146923646156\n",
      "Validation loss: 1.1876509110009357\n",
      "F1 Score (Weighted): 0.7327379987139554\n"
     ]
    },
    {
     "data": {
      "application/vnd.jupyter.widget-view+json": {
       "model_id": "",
       "version_major": 2,
       "version_minor": 0
      },
      "text/plain": [
       "Epoch 2:   0%|          | 0/11998 [00:00<?, ?it/s]"
      ]
     },
     "metadata": {},
     "output_type": "display_data"
    },
    {
     "name": "stdout",
     "output_type": "stream",
     "text": [
      "\n",
      "Epoch 2\n",
      "Training loss: 0.9098643533367868\n",
      "Validation loss: 1.3202564301300737\n",
      "F1 Score (Weighted): 0.7470178513225173\n"
     ]
    },
    {
     "data": {
      "application/vnd.jupyter.widget-view+json": {
       "model_id": "",
       "version_major": 2,
       "version_minor": 0
      },
      "text/plain": [
       "Epoch 3:   0%|          | 0/11998 [00:00<?, ?it/s]"
      ]
     },
     "metadata": {},
     "output_type": "display_data"
    },
    {
     "name": "stdout",
     "output_type": "stream",
     "text": [
      "\n",
      "Epoch 3\n",
      "Training loss: 0.6132512670184083\n",
      "Validation loss: 1.5210157660200494\n",
      "F1 Score (Weighted): 0.7485495614475228\n"
     ]
    }
   ],
   "source": [
    "seed_val = 17\n",
    "random.seed(seed_val)\n",
    "np.random.seed(seed_val)\n",
    "torch.manual_seed(seed_val)\n",
    "torch.cuda.manual_seed_all(seed_val)\n",
    "\n",
    "#Fonction Evaluate utilisée avec tqdm pour afficher la progression en live de l'apprentissage du modèle\n",
    "def evaluate(dataloader_val):\n",
    "\n",
    "    model.eval()\n",
    "    \n",
    "    loss_val_total = 0\n",
    "    predictions, true_vals = [], []\n",
    "    \n",
    "    for batch in dataloader_val:\n",
    "        \n",
    "        batch = tuple(b.to(device) for b in batch)\n",
    "        \n",
    "        inputs = {'input_ids':      batch[0],\n",
    "                  'attention_mask': batch[1],\n",
    "                  'labels':         batch[2],\n",
    "                 }\n",
    "\n",
    "        with torch.no_grad():        \n",
    "            outputs = model(**inputs)\n",
    "            \n",
    "        loss = outputs[0]\n",
    "        logits = outputs[1]\n",
    "        loss_val_total += loss.item()\n",
    "\n",
    "        logits = logits.detach().cpu().numpy()\n",
    "        label_ids = inputs['labels'].cpu().numpy()\n",
    "        predictions.append(logits)\n",
    "        true_vals.append(label_ids)\n",
    "    \n",
    "    loss_val_avg = loss_val_total/len(dataloader_val) \n",
    "    \n",
    "    predictions = np.concatenate(predictions, axis=0)\n",
    "    true_vals = np.concatenate(true_vals, axis=0)\n",
    "            \n",
    "    return loss_val_avg, predictions, true_vals\n",
    "  \n",
    "#Entrainement du modèle\n",
    "for epoch in tqdm(range(1, epochs+1)):\n",
    "    \n",
    "    model.train()\n",
    "    \n",
    "    loss_train_total = 0\n",
    "\n",
    "    progress_bar = tqdm(dataloader_train, desc='Epoch {:1d}'.format(epoch), leave=False, disable=False)\n",
    "    for batch in progress_bar:\n",
    "\n",
    "        model.zero_grad()\n",
    "        \n",
    "        batch = tuple(b.to(device) for b in batch)\n",
    "        \n",
    "        inputs = {'input_ids':      batch[0],\n",
    "                  'attention_mask': batch[1],\n",
    "                  'labels':         batch[2],\n",
    "                 }       \n",
    "        outputs = model(**inputs)\n",
    "        \n",
    "        loss = outputs[0]\n",
    "        loss_train_total += loss.item()\n",
    "        loss.backward()\n",
    "\n",
    "        torch.nn.utils.clip_grad_norm_(model.parameters(), 1.0)\n",
    "\n",
    "        optimizer.step()\n",
    "        scheduler.step()\n",
    "        \n",
    "        progress_bar.set_postfix({'training_loss': '{:.3f}'.format(loss.item()/len(batch))})\n",
    "         \n",
    "        \n",
    "      \n",
    "    # Ecriture des résultats  \n",
    "    tqdm.write(f'\\nEpoch {epoch}')\n",
    "    loss_train_avg = loss_train_total/len(dataloader_train)            \n",
    "    tqdm.write(f'Training loss: {loss_train_avg}')\n",
    "\n",
    "    #Sauvegarde du modèle finetuned par epoch\n",
    "    torch.save(model.state_dict(), 'Modeles/BERT_final.pt')\n",
    "    \n",
    "    val_loss, predictions, true_vals = evaluate(dataloader_validation)\n",
    "    val_f1 = f1_score_func(predictions, true_vals)\n",
    "    tqdm.write(f'Validation loss: {val_loss}')\n",
    "    tqdm.write(f'F1 Score (Weighted): {val_f1}')"
   ]
  },
  {
   "cell_type": "code",
   "execution_count": 45,
   "id": "21689063",
   "metadata": {
    "scrolled": true
   },
   "outputs": [
    {
     "name": "stdout",
     "output_type": "stream",
     "text": [
      "Class: 0\n",
      "Accuracy: 2025/2666\n",
      "\n",
      "Class: 1\n",
      "Accuracy: 1697/2667\n",
      "\n",
      "Class: 2\n",
      "Accuracy: 2278/2667\n",
      "\n",
      "Bert Model Accuracy Overall : 0.75\n"
     ]
    }
   ],
   "source": [
    "#Affichage des accuracy par classe de label\n",
    "accuracy_per_class(predictions, true_vals)"
   ]
  },
  {
   "cell_type": "markdown",
   "id": "1356cdc3",
   "metadata": {},
   "source": [
    "Nous obtenons une performance moyenne d'un peu plus de 75% d'accuracy après avoir entrainé sur 20 000 instances, mais pour une classification directe multiclasse."
   ]
  },
  {
   "cell_type": "markdown",
   "id": "9f6417ce",
   "metadata": {},
   "source": [
    "### Transfert"
   ]
  },
  {
   "cell_type": "markdown",
   "id": "fc28f2b3",
   "metadata": {},
   "source": [
    "Peut-on employer les modèles que nous avons appris pour l'analyse de sentiments sur les produits de la categorie \"musique digital\" à d'autres categories de produits sur Amazon ? Dans cette partie, nous appliquons notre LSTM pour la prédiction de sentiments sur quelques instances ou commentaires de la catégorie de produits \"livres\" pour laquelle il n'a pas été entrainé."
   ]
  },
  {
   "cell_type": "markdown",
   "id": "91084c3b",
   "metadata": {},
   "source": [
    "<b>Voir le notebook : rapport_notebook_nlp_transfert.ipynb</b>"
   ]
  },
  {
   "cell_type": "markdown",
   "id": "86bb8481",
   "metadata": {},
   "source": [
    "## Generation des résumés des avis des consommateurs"
   ]
  },
  {
   "cell_type": "markdown",
   "id": "b596005e",
   "metadata": {},
   "source": [
    "Dans cette dernière section, nous traitons de comment générer un titre résumé pour des avis rédigés des consommateurs. Nous employons un nouveau modèle pré-entrainé pour effectuer cette tâche : GPT-2."
   ]
  },
  {
   "cell_type": "code",
   "execution_count": 46,
   "id": "a4a165a6",
   "metadata": {},
   "outputs": [],
   "source": [
    "#chargement des cleaned\n",
    "df = pd.read_csv(\"Raw/Amazon_Digital_Music_Cleaned.csv\")\n",
    "df[\"reviewText\"] = df[\"reviewText\"].astype(\"str\")"
   ]
  },
  {
   "cell_type": "code",
   "execution_count": 47,
   "id": "c56d5af3",
   "metadata": {},
   "outputs": [],
   "source": [
    "#travaillons sur un échantillon pour rapidité des exécutions\n",
    "n_sample = 1000\n",
    "df_sampled = df[[\"reviewText\", \"summary\"]].sample(n = n_sample)"
   ]
  },
  {
   "cell_type": "code",
   "execution_count": 48,
   "id": "23c42c41",
   "metadata": {},
   "outputs": [],
   "source": [
    "#nous concatenons les commentaires et leur résumés avec le signe \"=\"\n",
    "df_sampled[\"reviews\"] = df_sampled[\"reviewText\"] + \". = \" + df_sampled[\"summary\"]\n",
    "\n",
    "#nous stockons ce nouveau format de commentaire dans la liste reviews ci-dessous\n",
    "reviews = df_sampled[\"reviews\"].values.tolist()"
   ]
  },
  {
   "cell_type": "code",
   "execution_count": 49,
   "id": "97ec4805",
   "metadata": {},
   "outputs": [
    {
     "data": {
      "text/plain": [
       "1000"
      ]
     },
     "execution_count": 49,
     "metadata": {},
     "output_type": "execute_result"
    }
   ],
   "source": [
    "#nombre d'instances\n",
    "len(reviews)"
   ]
  },
  {
   "cell_type": "code",
   "execution_count": 50,
   "id": "7ced0e7f",
   "metadata": {},
   "outputs": [
    {
     "data": {
      "text/plain": [
       "'as expected. = Five Stars'"
      ]
     },
     "execution_count": 50,
     "metadata": {},
     "output_type": "execute_result"
    }
   ],
   "source": [
    "#un exemple d'instance\n",
    "reviews[0]"
   ]
  },
  {
   "cell_type": "code",
   "execution_count": 51,
   "id": "3c697ee2",
   "metadata": {},
   "outputs": [],
   "source": [
    "#traitement des données 1\n",
    "reviews = [review.replace(\" = \", \" TL;DR \") for review in reviews]"
   ]
  },
  {
   "cell_type": "code",
   "execution_count": 52,
   "id": "e9a3802d",
   "metadata": {},
   "outputs": [
    {
     "data": {
      "text/plain": [
       "40.951"
      ]
     },
     "execution_count": 52,
     "metadata": {},
     "output_type": "execute_result"
    }
   ],
   "source": [
    "#longueur moyenne d'un commentaire\n",
    "avg_length = sum([len(review.split()) for review in reviews])/len(reviews)\n",
    "avg_length"
   ]
  },
  {
   "cell_type": "code",
   "execution_count": 53,
   "id": "86d8403f",
   "metadata": {},
   "outputs": [],
   "source": [
    "#Étant donné que la longueur moyenne des instances en mots est de 37, \n",
    "#nous pouvons supposer qu’une longueur maximale de 100 \n",
    "#qui couvrira la plupart des instances.\n",
    "max_length = 100"
   ]
  },
  {
   "cell_type": "code",
   "execution_count": 54,
   "id": "d66f6779",
   "metadata": {},
   "outputs": [],
   "source": [
    "#téléchargement du modèle et de son tokenize\n",
    "tokenizer = AutoTokenizer.from_pretrained(\"gpt2\")\n",
    "model = AutoModelWithLMHead.from_pretrained(\"gpt2\")"
   ]
  },
  {
   "cell_type": "code",
   "execution_count": 55,
   "id": "a5e6fdd5",
   "metadata": {},
   "outputs": [
    {
     "data": {
      "text/plain": [
       "<All keys matched successfully>"
      ]
     },
     "execution_count": 55,
     "metadata": {},
     "output_type": "execute_result"
    }
   ],
   "source": [
    "#stockage du modèle\n",
    "torch.save(model.state_dict(), 'Modeles/gpt2_weights_reviews')\n",
    "model_pth = \"Modeles/gpt2_weights_reviews\"\n",
    "model.load_state_dict(torch.load(model_pth))"
   ]
  },
  {
   "cell_type": "code",
   "execution_count": 56,
   "id": "83d058a7",
   "metadata": {},
   "outputs": [],
   "source": [
    "#utilisation du GPU ou du CPU\n",
    "device =  torch.device(\"cpu\") #nous utilisons notre CPU pour cette tâche, \n",
    "                              #car obtention d'une erreur de mémoire quand usage de GPU\n",
    "model = model.to(device)"
   ]
  },
  {
   "cell_type": "code",
   "execution_count": 57,
   "id": "a1ed18b1",
   "metadata": {},
   "outputs": [],
   "source": [
    "#initialisation de l'optimiseur\n",
    "optimizer = optim.AdamW(model.parameters(), lr=3e-4)"
   ]
  },
  {
   "cell_type": "code",
   "execution_count": 58,
   "id": "bd413a85",
   "metadata": {},
   "outputs": [],
   "source": [
    "#traitement des données 2\n",
    "tokenizer.encode(\" TL;DR \")\n",
    "extra_length = len(tokenizer.encode(\" TL;DR \")) "
   ]
  },
  {
   "cell_type": "code",
   "execution_count": 59,
   "id": "f08cb06b",
   "metadata": {},
   "outputs": [],
   "source": [
    "#fin du traitement des données\n",
    "class ReviewDataset(Dataset):  \n",
    "    def __init__(self, tokenizer, reviews, max_len):\n",
    "        self.max_len = max_len\n",
    "        self.tokenizer = tokenizer\n",
    "        self.eos = self.tokenizer.eos_token\n",
    "        self.eos_id = self.tokenizer.eos_token_id\n",
    "        self.reviews = reviews\n",
    "        self.result = []\n",
    "\n",
    "        for review in self.reviews:\n",
    "            tokenized = self.tokenizer.encode(review + self.eos)\n",
    "            \n",
    "            padded = self.pad_truncate(tokenized)            \n",
    "\n",
    "            self.result.append(torch.tensor(padded))\n",
    "\n",
    "    def __len__(self):\n",
    "        return len(self.result)\n",
    "\n",
    "\n",
    "    def __getitem__(self, item):\n",
    "        return self.result[item]\n",
    "\n",
    "    def pad_truncate(self, name):\n",
    "        name_length = len(name) - extra_length\n",
    "        if name_length < self.max_len:\n",
    "            difference = self.max_len - name_length\n",
    "            result = name + [self.eos_id] * difference\n",
    "        elif name_length > self.max_len:\n",
    "            result = name[:self.max_len + 3]+[self.eos_id] \n",
    "        else:\n",
    "            result = name\n",
    "        return result\n",
    "    \n",
    "dataset = ReviewDataset(tokenizer, reviews, max_length)\n",
    "\n",
    "dataloader = DataLoader(dataset, batch_size=1, shuffle=True, drop_last=True)"
   ]
  },
  {
   "cell_type": "markdown",
   "id": "8b07ce40",
   "metadata": {},
   "source": [
    "Nous pouvons à présent entrainer le modèle :"
   ]
  },
  {
   "cell_type": "code",
   "execution_count": 60,
   "id": "b0690d86",
   "metadata": {},
   "outputs": [],
   "source": [
    "def train(model, optimizer, dl, epochs):    \n",
    "    for epoch in range(epochs):\n",
    "        for idx, batch in enumerate(dl):\n",
    "             with torch.set_grad_enabled(True):\n",
    "                optimizer.zero_grad()\n",
    "                batch = batch.to(device)\n",
    "                output = model(batch, labels=batch)\n",
    "                loss = output[0]\n",
    "                loss.backward()\n",
    "                optimizer.step()\n",
    "                if idx % 50 == 0:\n",
    "                    print(\"loss: %f, %d\"%(loss, idx))"
   ]
  },
  {
   "cell_type": "code",
   "execution_count": 61,
   "id": "7ae12a13",
   "metadata": {},
   "outputs": [
    {
     "name": "stdout",
     "output_type": "stream",
     "text": [
      "loss: 11.498685, 0\n",
      "loss: 0.420448, 50\n",
      "loss: 0.052052, 100\n",
      "loss: 1.142858, 150\n",
      "loss: 1.114169, 200\n",
      "loss: 2.301215, 250\n",
      "loss: 1.330134, 300\n",
      "loss: 1.186960, 350\n",
      "loss: 2.325047, 400\n",
      "loss: 0.568164, 450\n",
      "loss: 0.338731, 500\n",
      "loss: 0.991028, 550\n",
      "loss: 3.326510, 600\n",
      "loss: 1.073526, 650\n",
      "loss: 0.272368, 700\n",
      "loss: 0.498009, 750\n",
      "loss: 5.929244, 800\n",
      "loss: 0.523443, 850\n",
      "loss: 4.465675, 900\n",
      "loss: 5.792861, 950\n"
     ]
    }
   ],
   "source": [
    "train(model=model, optimizer=optimizer, dl=dataloader, epochs=1)"
   ]
  },
  {
   "cell_type": "markdown",
   "id": "ec16af94",
   "metadata": {},
   "source": [
    "Appliquons ensuite le modèle pour la génération de quelques syntèses à partir des commentaires"
   ]
  },
  {
   "cell_type": "code",
   "execution_count": 62,
   "id": "b70bd41b",
   "metadata": {},
   "outputs": [],
   "source": [
    "def topk(probs, n=9):\n",
    "    probs = torch.softmax(probs, dim= -1)\n",
    "\n",
    "    tokensProb, topIx = torch.topk(probs, k=n)\n",
    "\n",
    "    tokensProb = tokensProb / torch.sum(tokensProb)\n",
    "\n",
    "    tokensProb = tokensProb.cpu().detach().numpy()\n",
    "    \n",
    "    choice = np.random.choice(n, 1, p = tokensProb)\n",
    "    tokenId = topIx[choice][0]\n",
    "\n",
    "    return int(tokenId)\n",
    "\n",
    "def model_infer(model, tokenizer, review, max_length=15):\n",
    "    # Preprocess the init token (task designator)\n",
    "    review_encoded = tokenizer.encode(review)\n",
    "    result = review_encoded\n",
    "    initial_input = torch.tensor(review_encoded).unsqueeze(0).to(device)\n",
    "\n",
    "    with torch.set_grad_enabled(False):\n",
    "        output = model(initial_input)\n",
    "\n",
    "        logits = output.logits[0,-1]\n",
    "\n",
    "        result.append(topk(logits))\n",
    "\n",
    "        for _ in range(max_length):\n",
    "            input = torch.tensor(result).unsqueeze(0).to(device)\n",
    "            output = model(input)\n",
    "            logits = output.logits[0,-1]\n",
    "            res_id = topk(logits)\n",
    "\n",
    "            if res_id == tokenizer.eos_token_id:\n",
    "                return tokenizer.decode(result)\n",
    "            else: \n",
    "                result.append(res_id)\n",
    "    return tokenizer.decode(result)"
   ]
  },
  {
   "cell_type": "code",
   "execution_count": 63,
   "id": "43afc584",
   "metadata": {},
   "outputs": [
    {
     "name": "stdout",
     "output_type": "stream",
     "text": [
      "its truly a shame this was the only real hit they managed to turn out the song has punch or kick choose your own term a must have for any extensive and particularly onehitwonder collection.\n",
      "Suggestions de titres: {'Best song', 'BEST SONGS', 'I bought it because i would not listen to the song'}\n",
      "\n",
      "it would not be inaccurate in calling katie thiroux an overachiever as a california youth growing up in a musical family she pursued jazz and opera at the age of 8 she switched from violin to standup bass in 2006 while a senior in high school thiroux was awarded the phil ramone presidential scholarship to berklee college of music in boston\n",
      "\n",
      "katie thiroux took a position as professor of music at usfq in ecuador and has played extensively with pianists larry fuller bill cunliffe geri allen helen sung tamir hendelman and eric reed trumpeters brian lynch and terrell stafford saxophonists jeff clayton charles mcphearson and ken peplowski and guitarists mundell lowe and larry koonse among others\n",
      "\n",
      "her new release introducing katie thiroux capitalizes on her mature and understated vocal prowess and her deeprooted jazz grooves produced by grammy awardwinning drummer jeff hamilton engineered by grammy winner steve genewick and mastered at capitol records by grammy award winner ron mcmaster the album is a treat from start to finish\n",
      "\n",
      "the leadoff track theres a small hotel is subtle in its beauty and elegance katie thirouxs voice is mature and textured the song moves along with an assured elegance underscored by her upright bass and the drums of matt witek guitarist graham dechter provides a lovely interlude which is wistful and assured\n",
      "\n",
      "the trio picks up the pace with dont be on the outside roger neumanns tenor saxophone provides an added element of gumption the interplay with dechters guitar and the more aggressive slapping of katie thirouxs bass keeps things moving in a spirited fashion thiroux scats on the tag in spirited fashion wives and lovers is a firstclass reading of the burt bacharachhal david classic with producer jeff hamilton casting just thirouxs voice and bass the impact is stunning and mesmerizing the song rays kicks is another of the many highlights on introducing katie thiroux\n",
      "\n",
      "the instrumental effectively intertwines the guitar of graham dechter with thirouxs bass her solo is tasty and assertive and pushes drummer jeff hamilton to match her intensity clearly katie thiroux could have made a firstclass instrumental album but the listener would have been deprived of songs like the tender and touching the one i love belongs to somebody else conversely the song demonstrates that thiroux could have made a strong cd solely as a vocalist as well yet as the swinging section of the song attest we would have been deprived of her flowing walking bass\n",
      "\n",
      "luckily introducing katie thiroux doesnt make the listener choose this is truly the best of both worlds.\n",
      "Suggestions de titres: {'it is the album to me', 'ive bought this album', '<|endoftext|>'}\n",
      "\n",
      "anything that this man has ever sang was a hit i wish i owned every song he ever sang even his movie would be great to own really though i love listening to gospel as much as a love old country.\n",
      "Suggestions de titres: {'Love it.', 'Very Good Music', 'This man has always made me want to own every song that he ever sang.'}\n",
      "\n",
      "okay.\n",
      "Suggestions de titres: {'Best Five Stars', 'Very good', 'Five Stars'}\n",
      "\n",
      "this item was just what i need at the time it arrived in a timely fashion and was well packaged.\n",
      "Suggestions de titres: {'Very pleased', 'I like this item', 'Very Awesome item'}\n",
      "\n"
     ]
    }
   ],
   "source": [
    "sample_reviews = [review.split(\" TL;DR \")[0] for review in random.sample(reviews, 5)]\n",
    "sample_reviews\n",
    "\n",
    "for review in sample_reviews:\n",
    "    summaries = set()\n",
    "    print(review)\n",
    "    while len(summaries) < 3:\n",
    "        summary = model_infer(model, tokenizer, review + \" TL;DR \").split(\" TL;DR \")[1].strip()\n",
    "        if summary not in summaries:\n",
    "            summaries.add(summary)\n",
    "    print(\"Suggestions de titres: \"+ str(summaries) +\"\\n\")"
   ]
  }
 ],
 "metadata": {
  "kernelspec": {
   "display_name": "Python 3 (ipykernel)",
   "language": "python",
   "name": "python3"
  },
  "language_info": {
   "codemirror_mode": {
    "name": "ipython",
    "version": 3
   },
   "file_extension": ".py",
   "mimetype": "text/x-python",
   "name": "python",
   "nbconvert_exporter": "python",
   "pygments_lexer": "ipython3",
   "version": "3.9.7"
  }
 },
 "nbformat": 4,
 "nbformat_minor": 5
}
